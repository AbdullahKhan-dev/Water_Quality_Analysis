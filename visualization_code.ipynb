{
 "cells": [
  {
   "cell_type": "code",
   "execution_count": 1,
   "id": "4c8d3a8e-5556-4f44-bb20-b433be26db24",
   "metadata": {},
   "outputs": [],
   "source": [
    "import rpy2\n",
    "import rpy2.robjects as robjects\n",
    "from rpy2.robjects.packages import importr\n",
    "import datetime\n",
    "from rpy2.rinterface_lib.callbacks import logger as rpy2_logger\n",
    "import logging\n",
    "import pandas as pd\n",
    "import seaborn as sns\n",
    "from matplotlib import pyplot as plt"
   ]
  },
  {
   "cell_type": "code",
   "execution_count": 2,
   "id": "9d83af6a-6276-4838-9f0a-ea212099b4b9",
   "metadata": {},
   "outputs": [],
   "source": [
    "base = importr('base')\n",
    "utils = importr('utils')\n",
    "stats = importr('stats')\n"
   ]
  },
  {
   "cell_type": "code",
   "execution_count": 3,
   "id": "a6a932fe-2952-4ac8-aaf2-0c379c15173e",
   "metadata": {},
   "outputs": [],
   "source": [
    "\n",
    "rpy2_logger.setLevel(logging.ERROR)"
   ]
  },
  {
   "cell_type": "code",
   "execution_count": 4,
   "id": "9bab3b8e-34ea-4951-8d88-cda594de7aad",
   "metadata": {},
   "outputs": [
    {
     "name": "stdout",
     "output_type": "stream",
     "text": [
      "\n",
      "The downloaded binary packages are in\n",
      "\t/var/folders/ld/nnc4sjg551xf7dyd1c71n7tr0000gn/T//RtmpGYrl7z/downloaded_packages\n"
     ]
    }
   ],
   "source": [
    "utils.install_packages('neonUtilities', repos='https://cran.rstudio.com/');\n"
   ]
  },
  {
   "cell_type": "code",
   "execution_count": 5,
   "id": "34abec29-8f91-4630-a64d-389e7c9d042f",
   "metadata": {},
   "outputs": [],
   "source": [
    "neonUtilities = importr('neonUtilities')\n"
   ]
  },
  {
   "cell_type": "code",
   "execution_count": 6,
   "id": "4aaac8fa-ea35-4861-87b2-2b7d1e5662a0",
   "metadata": {},
   "outputs": [
    {
     "name": "stdout",
     "output_type": "stream",
     "text": [
      "Stacking table swc_externalLabSummaryData\n",
      "  |                                                  | 0 % ~calculating   |+++++++++++++++++++++++++                         | 50% ~00s           |++++++++++++++++++++++++++++++++++++++++++++++++++| 100% elapsed=00s  \n",
      "Stacking operation across a single core.\n",
      "Stacking table swc_asiPOMFieldData\n",
      "  |                                                  | 0 % ~calculating   |+++++                                             | 9 % ~00s           |++++++++++                                        | 18% ~00s           |++++++++++++++                                    | 27% ~00s           |+++++++++++++++++++                               | 36% ~00s           |+++++++++++++++++++++++                           | 45% ~00s           |++++++++++++++++++++++++++++                      | 55% ~00s           |++++++++++++++++++++++++++++++++                  | 64% ~00s           |+++++++++++++++++++++++++++++++++++++             | 73% ~00s           |+++++++++++++++++++++++++++++++++++++++++         | 82% ~00s           |++++++++++++++++++++++++++++++++++++++++++++++    | 91% ~00s           |++++++++++++++++++++++++++++++++++++++++++++++++++| 100% elapsed=00s  \n",
      "Stacking table swc_domainLabData\n",
      "  |                                                  | 0 % ~calculating   |+++++                                             | 9 % ~00s           |++++++++++                                        | 18% ~00s           |++++++++++++++                                    | 27% ~00s           |+++++++++++++++++++                               | 36% ~00s           |+++++++++++++++++++++++                           | 45% ~00s           |++++++++++++++++++++++++++++                      | 55% ~00s           |++++++++++++++++++++++++++++++++                  | 64% ~00s           |+++++++++++++++++++++++++++++++++++++             | 73% ~00s           |+++++++++++++++++++++++++++++++++++++++++         | 82% ~00s           |++++++++++++++++++++++++++++++++++++++++++++++    | 91% ~00s           |++++++++++++++++++++++++++++++++++++++++++++++++++| 100% elapsed=00s  \n",
      "Stacking table swc_externalLabDataByAnalyte\n",
      "  |                                                  | 0 % ~calculating   |+++++                                             | 10% ~00s           |++++++++++                                        | 20% ~00s           |+++++++++++++++                                   | 30% ~00s           |++++++++++++++++++++                              | 40% ~00s           |+++++++++++++++++++++++++                         | 50% ~00s           |++++++++++++++++++++++++++++++                    | 60% ~00s           |+++++++++++++++++++++++++++++++++++               | 70% ~00s           |++++++++++++++++++++++++++++++++++++++++          | 80% ~00s           |+++++++++++++++++++++++++++++++++++++++++++++     | 90% ~00s           |++++++++++++++++++++++++++++++++++++++++++++++++++| 100% elapsed=00s  \n",
      "Stacking table swc_fieldData\n",
      "  |                                                  | 0 % ~calculating   |+++++                                             | 9 % ~00s           |++++++++++                                        | 18% ~00s           |++++++++++++++                                    | 27% ~00s           |+++++++++++++++++++                               | 36% ~00s           |+++++++++++++++++++++++                           | 45% ~00s           |++++++++++++++++++++++++++++                      | 55% ~00s           |++++++++++++++++++++++++++++++++                  | 64% ~00s           |+++++++++++++++++++++++++++++++++++++             | 73% ~00s           |+++++++++++++++++++++++++++++++++++++++++         | 82% ~00s           |++++++++++++++++++++++++++++++++++++++++++++++    | 91% ~00s           |++++++++++++++++++++++++++++++++++++++++++++++++++| 100% elapsed=00s  \n",
      "Stacking table swc_fieldSuperParent\n",
      "  |                                                  | 0 % ~calculating   |+++++                                             | 8 % ~00s           |+++++++++                                         | 17% ~00s           |+++++++++++++                                     | 25% ~00s           |+++++++++++++++++                                 | 33% ~00s           |+++++++++++++++++++++                             | 42% ~00s           |+++++++++++++++++++++++++                         | 50% ~00s           |++++++++++++++++++++++++++++++                    | 58% ~00s           |++++++++++++++++++++++++++++++++++                | 67% ~00s           |++++++++++++++++++++++++++++++++++++++            | 75% ~00s           |++++++++++++++++++++++++++++++++++++++++++        | 83% ~00s           |++++++++++++++++++++++++++++++++++++++++++++++    | 92% ~00s           |++++++++++++++++++++++++++++++++++++++++++++++++++| 100% elapsed=00s  \n",
      "Copied the most recent publication of validation file to /stackedFiles\n",
      "Copied the most recent publication of categoricalCodes file to /stackedFiles\n",
      "Copied the most recent publication of variable definition file to /stackedFiles\n",
      "Finished: Stacked 6 data tables and 4 metadata tables!\n",
      "Stacking took 3.152879 secs\n",
      "All unzipped monthly data folders have been removed.\n"
     ]
    },
    {
     "data": {
      "text/plain": [
       "<rpy2.rinterface_lib.sexp.NULLType object at 0x107b3aec0> [RTYPES.NILSXP]"
      ]
     },
     "execution_count": 6,
     "metadata": {},
     "output_type": "execute_result"
    }
   ],
   "source": [
    "neonUtilities.stackByTable(filepath='./NEON_chem-surfacewater.zip')\n"
   ]
  },
  {
   "cell_type": "code",
   "execution_count": 63,
   "id": "e56d120a-d303-4a12-9790-b52cdf0fbc79",
   "metadata": {},
   "outputs": [],
   "source": [
    "\n",
    "df = pd.read_csv('./NEON_chem-surfacewater/stackedFiles/swc_domainLabData.csv',parse_dates=['collectDate'],usecols=['collectDate','alkMgPerL'])\n",
    "\n",
    "\n"
   ]
  },
  {
   "cell_type": "code",
   "execution_count": 64,
   "id": "7650e38d-a9ea-42ec-a5c9-d8691d989bb7",
   "metadata": {},
   "outputs": [
    {
     "name": "stdout",
     "output_type": "stream",
     "text": [
      "<class 'str'>\n"
     ]
    }
   ],
   "source": [
    "df['collectDate'] = df['collectDate'].dt.month_name().str[:3]\n",
    "print(type(df['collectDate'][1]))"
   ]
  },
  {
   "cell_type": "code",
   "execution_count": 65,
   "id": "57519998-8d2a-4438-bfdb-6b63924f4c92",
   "metadata": {},
   "outputs": [
    {
     "data": {
      "text/html": [
       "<div>\n",
       "<style scoped>\n",
       "    .dataframe tbody tr th:only-of-type {\n",
       "        vertical-align: middle;\n",
       "    }\n",
       "\n",
       "    .dataframe tbody tr th {\n",
       "        vertical-align: top;\n",
       "    }\n",
       "\n",
       "    .dataframe thead th {\n",
       "        text-align: right;\n",
       "    }\n",
       "</style>\n",
       "<table border=\"1\" class=\"dataframe\">\n",
       "  <thead>\n",
       "    <tr style=\"text-align: right;\">\n",
       "      <th></th>\n",
       "      <th>collectDate</th>\n",
       "      <th>alkMgPerL</th>\n",
       "    </tr>\n",
       "  </thead>\n",
       "  <tbody>\n",
       "    <tr>\n",
       "      <th>0</th>\n",
       "      <td>Jan</td>\n",
       "      <td>NaN</td>\n",
       "    </tr>\n",
       "    <tr>\n",
       "      <th>1</th>\n",
       "      <td>Jan</td>\n",
       "      <td>58.1</td>\n",
       "    </tr>\n",
       "    <tr>\n",
       "      <th>2</th>\n",
       "      <td>Feb</td>\n",
       "      <td>62.0</td>\n",
       "    </tr>\n",
       "    <tr>\n",
       "      <th>3</th>\n",
       "      <td>Feb</td>\n",
       "      <td>59.3</td>\n",
       "    </tr>\n",
       "    <tr>\n",
       "      <th>4</th>\n",
       "      <td>Feb</td>\n",
       "      <td>NaN</td>\n",
       "    </tr>\n",
       "    <tr>\n",
       "      <th>5</th>\n",
       "      <td>Mar</td>\n",
       "      <td>63.0</td>\n",
       "    </tr>\n",
       "    <tr>\n",
       "      <th>6</th>\n",
       "      <td>Mar</td>\n",
       "      <td>NaN</td>\n",
       "    </tr>\n",
       "    <tr>\n",
       "      <th>7</th>\n",
       "      <td>Mar</td>\n",
       "      <td>64.0</td>\n",
       "    </tr>\n",
       "    <tr>\n",
       "      <th>8</th>\n",
       "      <td>May</td>\n",
       "      <td>44.0</td>\n",
       "    </tr>\n",
       "    <tr>\n",
       "      <th>9</th>\n",
       "      <td>May</td>\n",
       "      <td>NaN</td>\n",
       "    </tr>\n",
       "    <tr>\n",
       "      <th>10</th>\n",
       "      <td>May</td>\n",
       "      <td>32.9</td>\n",
       "    </tr>\n",
       "    <tr>\n",
       "      <th>11</th>\n",
       "      <td>Jun</td>\n",
       "      <td>27.2</td>\n",
       "    </tr>\n",
       "    <tr>\n",
       "      <th>12</th>\n",
       "      <td>Jun</td>\n",
       "      <td>NaN</td>\n",
       "    </tr>\n",
       "    <tr>\n",
       "      <th>13</th>\n",
       "      <td>Jun</td>\n",
       "      <td>33.9</td>\n",
       "    </tr>\n",
       "    <tr>\n",
       "      <th>14</th>\n",
       "      <td>Jul</td>\n",
       "      <td>45.6</td>\n",
       "    </tr>\n",
       "    <tr>\n",
       "      <th>15</th>\n",
       "      <td>Jul</td>\n",
       "      <td>NaN</td>\n",
       "    </tr>\n",
       "    <tr>\n",
       "      <th>16</th>\n",
       "      <td>Aug</td>\n",
       "      <td>NaN</td>\n",
       "    </tr>\n",
       "    <tr>\n",
       "      <th>17</th>\n",
       "      <td>Aug</td>\n",
       "      <td>55.7</td>\n",
       "    </tr>\n",
       "    <tr>\n",
       "      <th>18</th>\n",
       "      <td>Aug</td>\n",
       "      <td>53.5</td>\n",
       "    </tr>\n",
       "    <tr>\n",
       "      <th>19</th>\n",
       "      <td>Sep</td>\n",
       "      <td>NaN</td>\n",
       "    </tr>\n",
       "    <tr>\n",
       "      <th>20</th>\n",
       "      <td>Sep</td>\n",
       "      <td>55.7</td>\n",
       "    </tr>\n",
       "    <tr>\n",
       "      <th>21</th>\n",
       "      <td>Sep</td>\n",
       "      <td>53.7</td>\n",
       "    </tr>\n",
       "    <tr>\n",
       "      <th>22</th>\n",
       "      <td>Oct</td>\n",
       "      <td>56.8</td>\n",
       "    </tr>\n",
       "    <tr>\n",
       "      <th>23</th>\n",
       "      <td>Oct</td>\n",
       "      <td>NaN</td>\n",
       "    </tr>\n",
       "    <tr>\n",
       "      <th>24</th>\n",
       "      <td>Nov</td>\n",
       "      <td>61.0</td>\n",
       "    </tr>\n",
       "    <tr>\n",
       "      <th>25</th>\n",
       "      <td>Nov</td>\n",
       "      <td>NaN</td>\n",
       "    </tr>\n",
       "    <tr>\n",
       "      <th>26</th>\n",
       "      <td>Nov</td>\n",
       "      <td>60.4</td>\n",
       "    </tr>\n",
       "    <tr>\n",
       "      <th>27</th>\n",
       "      <td>Dec</td>\n",
       "      <td>NaN</td>\n",
       "    </tr>\n",
       "    <tr>\n",
       "      <th>28</th>\n",
       "      <td>Dec</td>\n",
       "      <td>56.1</td>\n",
       "    </tr>\n",
       "  </tbody>\n",
       "</table>\n",
       "</div>"
      ],
      "text/plain": [
       "   collectDate  alkMgPerL\n",
       "0          Jan        NaN\n",
       "1          Jan       58.1\n",
       "2          Feb       62.0\n",
       "3          Feb       59.3\n",
       "4          Feb        NaN\n",
       "5          Mar       63.0\n",
       "6          Mar        NaN\n",
       "7          Mar       64.0\n",
       "8          May       44.0\n",
       "9          May        NaN\n",
       "10         May       32.9\n",
       "11         Jun       27.2\n",
       "12         Jun        NaN\n",
       "13         Jun       33.9\n",
       "14         Jul       45.6\n",
       "15         Jul        NaN\n",
       "16         Aug        NaN\n",
       "17         Aug       55.7\n",
       "18         Aug       53.5\n",
       "19         Sep        NaN\n",
       "20         Sep       55.7\n",
       "21         Sep       53.7\n",
       "22         Oct       56.8\n",
       "23         Oct        NaN\n",
       "24         Nov       61.0\n",
       "25         Nov        NaN\n",
       "26         Nov       60.4\n",
       "27         Dec        NaN\n",
       "28         Dec       56.1"
      ]
     },
     "execution_count": 65,
     "metadata": {},
     "output_type": "execute_result"
    }
   ],
   "source": [
    "df"
   ]
  },
  {
   "cell_type": "code",
   "execution_count": 67,
   "id": "ed716fcb-8f16-48f2-ac9b-88bb49449173",
   "metadata": {},
   "outputs": [
    {
     "data": {
      "text/plain": [
       "[Text(0.5, 0, 'Date'), Text(0, 0.5, 'Mg Per Litre')]"
      ]
     },
     "execution_count": 67,
     "metadata": {},
     "output_type": "execute_result"
    },
    {
     "data": {
      "image/png": "[encoded data removed]",
      "text/plain": [
       "<Figure size 1080x504 with 1 Axes>"
      ]
     },
     "metadata": {
      "needs_background": "light"
     },
     "output_type": "display_data"
    }
   ],
   "source": [
    "plt.figure(figsize=(15, 7))\n",
    "plot = sns.lineplot(x = 'collectDate',y = 'alkMgPerL',data = df,label='Alkalinity of water in Wyoming observed over 2021, in milligrams of Calcium Carbonate per Liter',ci=None)\n",
    "plot.set(xlabel = \"Date\", ylabel = \"Mg Per Litre\")\n",
    "\n",
    "\n"
   ]
  },
  {
   "cell_type": "code",
   "execution_count": null,
   "id": "14894a47-9221-4086-a446-c74aa92cb583",
   "metadata": {},
   "outputs": [],
   "source": []
  }
 ],
 "metadata": {
  "kernelspec": {
   "display_name": "Python 3 (ipykernel)",
   "language": "python",
   "name": "python3"
  },
  "language_info": {
   "codemirror_mode": {
    "name": "ipython",
    "version": 3
   },
   "file_extension": ".py",
   "mimetype": "text/x-python",
   "name": "python",
   "nbconvert_exporter": "python",
   "pygments_lexer": "ipython3",
   "version": "3.8.9"
  }
 },
 "nbformat": 4,
 "nbformat_minor": 5
}
